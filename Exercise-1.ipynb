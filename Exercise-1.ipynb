{
 "cells": [
  {
   "cell_type": "markdown",
   "metadata": {},
   "source": [
    "# Exercise 1\n",
    "\n",
    "Exercise 1 includes a **written assignment** (10 points) and a **programming assignment with 3 problems** (9 points) and a **feedback/workload assessment assignment** (1 point). For each problem you need to modify the notebook by adding your own programming solutions or written text. Remember to save and commit your changes locally, and push your changes to GitHub after each major change! Regular commits will help you to keep track of your changes (and revert them if needed). Pushing your work to GitHub will ensure that you don't lose any work in case your computer crashes (can happen!).\n",
    "\n",
    "### Time allocation\n",
    "\n",
    "**Completing this exercise takes approximately: 8-12 hours** (based on previous year statistics). However, the time it takes can vary significantly from student to student, so we **recommended that you start immediately working on the exercise to avoid issues meeting with the deadline**.\n",
    "\n",
    "### Due date\n",
    "\n",
    "You should submit (push) your Exercise answers to your personal Github repository **by Friday 24.1** (by 23:59). \n",
    "\n",
    "*Note: Once you have submitted your exercise to Github, we can see and grade them. Thus, you do not need to submit your answers to anywhere else.*\n",
    "      \n",
    "### Start your exercise in CSC Noppe\n",
    "\n",
    "Before you can start programming, you need to launch the CSC Notebook instance and clone your **personal copy of the Exercise repository** (i.e. something like `exercise-1-htenkanen`) there using Git. If you need help with this, [read the documentation on the course site](https://sustainability-gis.readthedocs.io/en/latest/tutorials/git-basics.html).\n",
    "\n",
    "### Working with Jupyter Notebooks\n",
    "\n",
    "Jupyter Notebooks are documents that can be used and run inside the JupyterLab programming environment (e.g. at [noppe.csc.fi](https://noppe.csc.fi/)) containing the computer code and rich text elements (such as text, figures, tables and links). \n",
    "\n",
    "**A couple of hints**:\n",
    "\n",
    "- You can **execute a cell** by clicking a given cell that you want to run and pressing <kbd>Shift</kbd> + <kbd>Enter</kbd> (or by clicking the \"Play\" button on top)\n",
    "- You can **change the cell-type** between `Markdown` (for writing text) and `Code` (for writing/executing code) from the dropdown menu above. \n",
    "\n",
    "See [**further details and help from here**](https://pythongis.org/part1/chapter-01/nb/04-using-jupyterlab.html). \n",
    " \n",
    "### Hints \n",
    "\n",
    "If there are general questions arising from this exercise, we will add hints to the course website under [Exercise 1 description](https://sustainability-gis.readthedocs.io/en/latest/exercises/exercise-1.html). "
   ]
  },
  {
   "cell_type": "markdown",
   "metadata": {},
   "source": [
    "## Problem 0\n",
    "\n",
    "### Task 1: Enter to Slack and provide your Github name\n",
    "\n",
    "**This part is only for registered students.** We have sent an invite link to Slack to all registered participants before the first lesson. Please contact the course instructors via email in case you are registered for the course, but don’t have access to Slack. **Without this information, we cannot provide you feedback, so please remember to do this!**\n",
    "\n",
    "**Steps**:\n",
    "\n",
    " 1. Go to our Slack page at https://sds2025.slack.com.\n",
    " 2. Post a new message in the **#exercise-1** channel with your **full name** and **GitHub username**\n",
    "   \n",
    "   - For example `Henrikki Tenkanen: htenkanen`\n",
    "\n",
    "### Task 2: Getting started with CSC Noppe\n",
    "\n",
    "In this task, your target is to learn how to work with CSC Noppe cloud computing environment. There are four steps in this problem:\n",
    "\n",
    "1. Join the CSC Noppe workspace of the course by [following these materials in Tutorial 0](https://sustainability-gis.readthedocs.io/en/latest/tutorials/git-basics.html#join-the-csc-noppe-workspace-of-the-course)\n",
    "\n",
    "2. Create a Personal Access Token for Github by [following these materials in Tutorial 0](https://sustainability-gis.readthedocs.io/en/latest/tutorials/git-basics.html#create-a-personal-access-token)\n",
    "\n",
    "3. Launch a new Noppe session by [following these materials](https://sustainability-gis.readthedocs.io/en/latest/tutorials/git-basics.html#start-noppe-computing-instance) that will open a JupyterLab in your browser that you can use for programming\n",
    "\n",
    "4. Start working on the Exercise 1 in Noppe by [following these materials](https://sustainability-gis.readthedocs.io/en/latest/tutorials/git-basics.html#start-your-exercise-assignment). Go through the tutorial carefully that will show you how to make simple change to the Readme.md file and then commit and push your changes back into your personal Github repository."
   ]
  },
  {
   "cell_type": "markdown",
   "metadata": {},
   "source": [
    "<hr style=\"border:2px solid gray\">"
   ]
  },
  {
   "cell_type": "markdown",
   "metadata": {},
   "source": [
    "# Part 1: Written assignment (10 points)\n",
    "\n",
    "In the *Introduction to Sustainability* and *Introduction to Spatial Data Science* lessons this week, we have learned a few basic concepts about sustainable development goals and modern geospatial analytics. \n",
    "In this written assignment, the idea is to reflect a bit of the things that we have learned from your own perspective.\n",
    "\n",
    "## Reflections on sustainability\n",
    "\n",
    "Write approx. 0.5-2 pages (A4) of text in English. Remember to **cite your sources appropriately** when you use literature or other reading materials in your text. \n",
    "\n",
    "In this essay, you should reflect your own life and thoughts about sustainability. To help you get going, here are some questions that you might touch upon in your text:\n",
    "\n",
    " - What does sustainability mean to you? \n",
    " - Did your idea / understanding about sustainability evolve somehow after the introductory presentation? \n",
    " - Did the topics introduced during the lecture raise any emotions/feelings to you? \n",
    " - Are there (or have there been) some behaviors/actions in your life that you have changed due to sustainability reasons? What were the reasons for doing these changes?\n",
    "\n",
    "In addition to (or instead of) the questions above, you can also invent your own topics/questions that you want to write about. The important part is that you start thinking about sustainability and reflect it from your own perspective. "
   ]
  },
  {
   "cell_type": "markdown",
   "metadata": {},
   "source": [
    "### Grading criteria for the essay\n",
    "\n",
    "- Answers to the question(s): 4 points\n",
    "\n",
    "- Reflection against literature, materials, and own experiences: 4 points\n",
    "\n",
    "- Fluency / clarity of the text: 1 point\n",
    "\n",
    "- Appropriate citation practices used: 1 point\n",
    "\n",
    "**Hints**:\n",
    "\n",
    "- A good essay includes justification for the arguments\n",
    "- A good essay includes your own thoughts. Provide reflection: What do you personally think about the topic? Do you have own experiences about the topic? Does the theme raise emotions? \n",
    "- A good essay includes ideas and arguments that are backed by scientific knowledge. Include references to articles, lecture materials, news stories and/or recommended literature. \n",
    "- A good essay cites appropriately to the used literature and includes a reference list at the end of the essay which is in alphabetical order.\n",
    "  - Use Harvard reference style when citing, e.g. *\"The planetary boundaries (Rockström et al., 2009) quantify how far we are from causing a major and rapid human-induced environmental change on a global scale.\"*\n",
    "\n",
    "----------------"
   ]
  },
  {
   "cell_type": "markdown",
   "metadata": {},
   "source": [
    "## Answers / reflection\n",
    "\n",
    "**Add your text here.**\n",
    "\n",
    "*Hint: To \"activate\" this cell in Editing mode, double click this cell. If you want to get this cell back in the \"Reading-mode\", press <kbd>Shift</kbd> + <kbd>Enter</kbd>.*"
   ]
  },
  {
   "cell_type": "markdown",
   "metadata": {},
   "source": [
    "## Hints\n",
    "\n",
    "- If you need help in Markdown formatting (e.g. how to add headings, bold, italics, links etc.), please take a look at this excellent [guide / cheatsheet](https://www.markdownguide.org/cheat-sheet/) "
   ]
  },
  {
   "cell_type": "markdown",
   "metadata": {},
   "source": [
    "<hr style=\"border:2px solid gray\">"
   ]
  },
  {
   "cell_type": "markdown",
   "metadata": {},
   "source": [
    "# Part 2: Programming assignment (10 points)\n",
    "\n",
    "Exercise 1 includes two problems that you need to solve with programming (+ one extra task which is optional). For each problem you need to modify the notebook by adding your own solutions. Remember to save and commit your changes locally, and push your changes to GitHub after each major change! Regular commits will help you to keep track of your changes (and revert them if needed). Pushing your work to GitHub will ensure that you don't lose any work in case your computer crashes (can happen!).\n",
    "\n",
    "The purpose of this programming assignment is to familiarize yourself with some basic functionalities of geopandas. \n",
    "An overview of the tasks:\n",
    "\n",
    " - extract OpenStreetMap data from Helsinki Region\n",
    " - make a simple visualization  \n",
    " - calculate building density for a given district\n",
    " \n",
    "### Start your exercise in CSC Notebooks\n",
    "\n",
    "Before you can start programming, you need to launch the CSC Notebook instance and clone your Exercise repository there.\n",
    "If you need help with this, [read the documentation on the course site](https://sustainability-gis.readthedocs.io/en/latest/lessons/L1/git-basics.html).\n",
    " \n",
    "### Hints \n",
    "\n",
    "If there are general questions arising from this exercise, we will add hints to the course website under [Exercise 1 description](https://sustainability-gis.readthedocs.io/en/latest/lessons/L1/exercise-1.html). \n"
   ]
  },
  {
   "cell_type": "markdown",
   "metadata": {},
   "source": [
    "## Problem 1 (4 points)\n",
    "\n",
    "Before you start, go through the [Python tutorial 1](https://sustainability-gis.readthedocs.io/en/latest/tutorials/intro-to-python-geostack.html) which should give you all necessary information with examples to complete this exercise. \n",
    "\n",
    "In the first task you should write code in which you:\n",
    " \n",
    " - **Download OSM data for the postal code area where you live using `osmnx`** (or some other area which interests you). You should read the following datasets from the given postal code area:\n",
    " \n",
    "   1. Buildings\n",
    "   2. Roads\n",
    "   3. Administrative boundary for the city area \n",
    "  \n",
    " - **Reproject the datasets to EPSG:3067** (Euref-FIN) \n",
    " - **Visualize** the reprojected buildings, roads and the administrative boundary and produce a map that pleases your eye (style is free). \n",
    "   - Add a title to your map\n",
    "   - If you want to use black background you can `import matplotlib.pyplot as plt` and specify `plt.style.use(\"dark_background\")`\n",
    "   - For example, the output could look like following:\n",
    " \n",
    "![Ullanlinna](img/hoods-example.png)\n",
    "   \n",
    "\n",
    "Please write your solution to the cell below (remove the `raise NotImplementedError()` code). You can create new cells as well if needed."
   ]
  },
  {
   "cell_type": "code",
   "execution_count": null,
   "metadata": {
    "deletable": false,
    "nbgrader": {
     "cell_type": "code",
     "checksum": "142174e96973067e7af31f843fcaaca3",
     "grade": true,
     "grade_id": "cell-20a61454de8d83b8",
     "locked": false,
     "points": 7,
     "schema_version": 3,
     "solution": true,
     "task": false
    }
   },
   "outputs": [],
   "source": [
    "# YOUR CODE HERE\n",
    "raise NotImplementedError()"
   ]
  },
  {
   "cell_type": "markdown",
   "metadata": {},
   "source": [
    "## Problem 2 (2 points)\n",
    "\n",
    "Based on the buildings and district GeoDataFrames, calculate the building density for the given district. To do this, you should:\n",
    "\n",
    " - Calculate the total area of all buildings within your district\n",
    "   - Note: Use the buildings and district from Problem 1\n",
    " - Divide this total building area by the area of the district\n",
    "   - the result shows the building density as percentage (i.e. proportion of the land that is allocated for buildings)\n",
    " - Print the result for your district to the screen in percentages with 1 decimal point. I.e. it should say something like:\n",
    "   - \"Building density in Ullanlinna is 14.5 %. \n",
    "\n",
    "Please write your solution to the cell below (remove the `raise NotImplementedError()` code). You can create new cells as well if needed."
   ]
  },
  {
   "cell_type": "code",
   "execution_count": null,
   "metadata": {
    "deletable": false,
    "nbgrader": {
     "cell_type": "code",
     "checksum": "4ba3c16e98b3b016fef469658fa90a18",
     "grade": true,
     "grade_id": "cell-56ac0e2b932bdb9d",
     "locked": false,
     "points": 3,
     "schema_version": 3,
     "solution": true,
     "task": false
    }
   },
   "outputs": [],
   "source": [
    "# YOUR CODE HERE\n",
    "raise NotImplementedError()"
   ]
  },
  {
   "cell_type": "markdown",
   "metadata": {
    "tags": []
   },
   "source": [
    "## Problem 3 (3 points)\n",
    "\n",
    "In this problem, your task is to calculate building densities for all districts in Helsinki. The end result should like something like following:\n",
    "\n",
    "![Building densities](img/building-densities-Helsinki.png)\n",
    "\n",
    "It is possible to extract city districts directly from OpenStreetMap (OSM). In OSM, different administrative levels are tagged with `admin_level` tag (see [OSM docs](https://wiki.openstreetmap.org/wiki/Tag:boundary%3Dadministrative#admin_level)) as well as the [Python tutorial 1](https://sustainability-gis.readthedocs.io/en/latest/tutorials/intro-to-python-geostack.html#example-select-buildings-for-specific-administrative-area). These admin levels are used in order to render different borders consistently among countries. E.g `admin_level=\"10\"` is typically used to render districts, neighborhoods and so on, whereas `admin_level=\"4\"` is typically used to draw provinces, regions, federal states etc. These values are country specific, hence, if you work in other countries please take a look at the country specific table from the [OSM docs](https://wiki.openstreetmap.org/wiki/Tag:boundary%3Dadministrative#admin_level). In many countries, `admin_level=\"10\"` is used for neighborhoods, hence you can take advantage of that information and extract all the neighborhoods in the study area.\n",
    "\n",
    "**Description**:\n",
    "\n",
    "1. Read city districts into a variable called `city_districts` for Helsinki using `osmnx`, i.e. all rows in which the `\"admin_level\"` is `\"10\"` (see Tutorial 1).\n",
    "2. Select only rows in which the `element_type` is `\"relation\"`\n",
    "    - Hint: You can filter specific element types from the GeoDataFrame returned by `osmnx` by modifying the following command: `city_districts.loc[\"SPECIFY ELEMENT TYPE HERE\"]`\n",
    "\n",
    "3. Read buildings into a variable called `buildings` for Helsinki using `osmnx`.\n",
    "4. Reproject the city districts and buildings into EPSG 3067 (i.e. into a metric system)\n",
    "5. Create a new column called `density` for city districts GeoDataFrame and assign a value `0.0` to it\n",
    "6. Iterate over city districts one by one using the `.iterrows()` method of pandas (see further info [here](https://python-gis-book.readthedocs.io/en/latest/part1/chapter-03/nb/02-data-analysis.html#using-a-function-by-iterating-over-rows) and [here](https://pandas.pydata.org/docs/reference/api/pandas.DataFrame.iterrows.html)), AND:\n",
    "    1. By default when iterating over the rows, a single row (i.e. district\") is always presented as a `GeoSeries`. We need to convert this into a GeoDataFrame, so that we can do the following steps. Hence, convert the row representing a single `district` into a GeoDataFrame like this (modify if needed): `district = gpd.GeoDataFrame(district.to_frame().T, crs=\"epsg:3067\")` \n",
    "    2. Select all buildings that are intersecting with a given district using spatial join: `gpd.sjoin()`\n",
    "    3. Calculate the building density based on the area of buildings and the area of the district (in a similar manner as in Problem 2). \n",
    "    4. Update the result into the `density` column in the city districts GeoDataFrame. The density should be represented as a percentage (0-100) rounding it to 1 decimal.\n",
    "6. Visualize the results and add a legend and title for the map as shown in the figure above.\n",
    "\n",
    "\n",
    "Please write your solution to the cell below (remove the `raise NotImplementedError()` code). You can create new cells as well if needed."
   ]
  },
  {
   "cell_type": "code",
   "execution_count": null,
   "metadata": {
    "deletable": false,
    "nbgrader": {
     "cell_type": "code",
     "checksum": "3789b19964547f49d1293cf17904fb5f",
     "grade": true,
     "grade_id": "cell-d7585121c4912945",
     "locked": false,
     "points": 0,
     "schema_version": 3,
     "solution": true,
     "task": false
    }
   },
   "outputs": [],
   "source": [
    "# A query that covers all Helsinki \n",
    "query = \"Helsinki, Finland\"\n",
    "\n",
    "# YOUR CODE HERE\n",
    "raise NotImplementedError()"
   ]
  },
  {
   "cell_type": "markdown",
   "metadata": {
    "jp-MarkdownHeadingCollapsed": true
   },
   "source": [
    "## Problem 4 - How long did it take? Optional feedback (1 point)\n",
    "\n",
    "To help developing the exercises, and understanding the time that it took for you to finish the Exercise, please provide an estimate of how many hours you spent for doing this exercise? *__Hint:__ To \"activate\" this cell in Editing mode, double click this cell. If you want to get this cell back in the \"Reading-mode\", press Shift+Enter.*\n",
    "\n",
    "\n",
    "I spent approximately this many hours: **X hours**\n",
    "\n",
    "In addition, if you would like to give any feedback about the exercise (optional), please provide it below:\n",
    "\n",
    "**My feedback:**"
   ]
  }
 ],
 "metadata": {
  "kernelspec": {
   "display_name": "Python 3 (ipykernel)",
   "language": "python",
   "name": "python3"
  },
  "language_info": {
   "codemirror_mode": {
    "name": "ipython",
    "version": 3
   },
   "file_extension": ".py",
   "mimetype": "text/x-python",
   "name": "python",
   "nbconvert_exporter": "python",
   "pygments_lexer": "ipython3",
   "version": "3.11.6"
  },
  "pycharm": {
   "stem_cell": {
    "cell_type": "raw",
    "metadata": {
     "collapsed": false
    },
    "source": []
   }
  }
 },
 "nbformat": 4,
 "nbformat_minor": 4
}
